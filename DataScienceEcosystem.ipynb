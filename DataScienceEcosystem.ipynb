{
 "cells": [
  {
   "cell_type": "markdown",
   "id": "8f05cdae-4232-4c51-83fd-8bec637f0e1d",
   "metadata": {},
   "source": [
    "# Data Science Tools and Ecosystem"
   ]
  },
  {
   "cell_type": "markdown",
   "id": "d314a15c-9325-449f-89fa-c70a9969ff6b",
   "metadata": {},
   "source": [
    "In this notebook, Data Science Tools and Ecosystem are summarized."
   ]
  },
  {
   "cell_type": "markdown",
   "id": "4ed7270b-d5d9-4727-8c58-a467076757e3",
   "metadata": {},
   "source": [
    "**Objectives:**\n",
    "- List popular languages for Data Science.\n",
    "- Commonly used Data Science tools.\n",
    "- Basic Arithmetic operation in python.\n",
    "- Example of Converting Minutes to Hours.\n",
    "- Providing Ecosystem of Data Science"
   ]
  },
  {
   "cell_type": "markdown",
   "id": "e78139a2-88f9-475d-9e5d-95bcd82d690c",
   "metadata": {},
   "source": [
    "Some of the popular languages that Data Scientists use are:\n",
    "\n",
    "1. Python\n",
    "2. R \n",
    "3. Java \n",
    "4. SQL\n",
    "5. Julia"
   ]
  },
  {
   "cell_type": "markdown",
   "id": "0a77bda6-e053-4408-a050-2c50d2feef93",
   "metadata": {},
   "source": [
    "Some of the commonly used libraries used by Data Scientists include:\n",
    "\n",
    "1. Numpy\n",
    "2. Pandas\n",
    "3. Matplotlib\n",
    "4. Scikit-Learn\n"
   ]
  },
  {
   "cell_type": "markdown",
   "id": "7f2affe3-2590-42d3-9c23-8d9e0fbbae79",
   "metadata": {},
   "source": [
    "| Data Science Tools        |\n",
    "|---------------------------|\n",
    "| Jupyter Notebook          |\n",
    "| RStudio                   |\n",
    "| Apache Zeppelin           |\n"
   ]
  },
  {
   "cell_type": "markdown",
   "id": "40f5e9df-1d7f-462a-a649-9e4372510b78",
   "metadata": {},
   "source": [
    "### Below are a few examples of evaluating arithmetic expressions in Python.\n",
    "\n"
   ]
  },
  {
   "cell_type": "code",
   "execution_count": 6,
   "id": "7fe68249-c268-4aaf-bc7c-b5911b59ae26",
   "metadata": {},
   "outputs": [
    {
     "data": {
      "text/plain": [
       "17"
      ]
     },
     "execution_count": 6,
     "metadata": {},
     "output_type": "execute_result"
    }
   ],
   "source": [
    "#This a simple arithmetic expression to mutiply then add integers\n",
    "(3*4)+5"
   ]
  },
  {
   "cell_type": "code",
   "execution_count": 7,
   "id": "5e0b4baa-8d6d-4d58-be55-4a8fa43bc796",
   "metadata": {},
   "outputs": [
    {
     "data": {
      "text/plain": [
       "'3 hour(s) and 20 minute(s)'"
      ]
     },
     "execution_count": 7,
     "metadata": {},
     "output_type": "execute_result"
    }
   ],
   "source": [
    "# This will convert 200 minutes to hours by diving by 60\n",
    "\n",
    "total_minutes = 200\n",
    "hours = total_minutes // 60\n",
    "minutes = total_minutes % 60\n",
    "f\"{hours} hour(s) and {minutes} minute(s)\"\n"
   ]
  },
  {
   "cell_type": "markdown",
   "id": "fcac96e0-f92e-47ea-bcd3-9ab2b65203c8",
   "metadata": {},
   "source": [
    "## AUTHOR\n",
    "   Avinash Kumar Singh"
   ]
  },
  {
   "cell_type": "code",
   "execution_count": null,
   "id": "bab3de33-8421-49b8-a687-daf018dde415",
   "metadata": {},
   "outputs": [],
   "source": []
  }
 ],
 "metadata": {
  "kernelspec": {
   "display_name": "Python 3 (ipykernel)",
   "language": "python",
   "name": "python3"
  },
  "language_info": {
   "codemirror_mode": {
    "name": "ipython",
    "version": 3
   },
   "file_extension": ".py",
   "mimetype": "text/x-python",
   "name": "python",
   "nbconvert_exporter": "python",
   "pygments_lexer": "ipython3",
   "version": "3.11.9"
  }
 },
 "nbformat": 4,
 "nbformat_minor": 5
}
